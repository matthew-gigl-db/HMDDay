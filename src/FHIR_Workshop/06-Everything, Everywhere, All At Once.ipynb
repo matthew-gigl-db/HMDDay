{
 "cells": [
  {
   "cell_type": "code",
   "execution_count": 0,
   "metadata": {
    "application/vnd.databricks.v1+cell": {
     "cellMetadata": {
      "byteLimit": 2048000,
      "rowLimit": 10000
     },
     "inputWidgets": {},
     "nuid": "ccea1cf5-6529-44cb-bc00-4c8aa9a066b8",
     "showTitle": false,
     "tableResultSettingsMap": {},
     "title": ""
    }
   },
   "outputs": [],
   "source": [
    "DECLARE OR REPLACE VARIABLE schema_use STRING DEFAULT REPLACE(SPLIT(current_user(), '@')[0], '.', '_');\n",
    "DECLARE OR REPLACE VARIABLE resourceType STRING DEFAULT 'Encounter';"
   ]
  },
  {
   "cell_type": "code",
   "execution_count": 0,
   "metadata": {
    "application/vnd.databricks.v1+cell": {
     "cellMetadata": {
      "byteLimit": 2048000,
      "rowLimit": 10000
     },
     "inputWidgets": {},
     "nuid": "15cda69d-5e9d-4e17-8d1a-59a623bd7aea",
     "showTitle": false,
     "tableResultSettingsMap": {},
     "title": ""
    }
   },
   "outputs": [],
   "source": [
    "SET VARIABLE resourceType = :resource_type; \n",
    "\n",
    "SELECT resourceType;"
   ]
  },
  {
   "cell_type": "code",
   "execution_count": 0,
   "metadata": {
    "application/vnd.databricks.v1+cell": {
     "cellMetadata": {
      "byteLimit": 2048000,
      "rowLimit": 10000
     },
     "inputWidgets": {},
     "nuid": "44921158-61fa-42ae-962f-cb7494361f06",
     "showTitle": false,
     "tableResultSettingsMap": {},
     "title": ""
    }
   },
   "outputs": [],
   "source": [
    "USE IDENTIFIER(\"fhir_workshop.\" || schema_use);"
   ]
  },
  {
   "cell_type": "code",
   "execution_count": 0,
   "metadata": {
    "application/vnd.databricks.v1+cell": {
     "cellMetadata": {
      "byteLimit": 2048000,
      "rowLimit": 10000
     },
     "inputWidgets": {},
     "nuid": "c02dbcb5-574f-44bc-bbb9-20fe9cc7a43b",
     "showTitle": false,
     "tableResultSettingsMap": {},
     "title": ""
    }
   },
   "outputs": [],
   "source": [
    "SELECT current_catalog(), current_schema();"
   ]
  },
  {
   "cell_type": "code",
   "execution_count": 0,
   "metadata": {
    "application/vnd.databricks.v1+cell": {
     "cellMetadata": {
      "byteLimit": 2048000,
      "rowLimit": 10000
     },
     "inputWidgets": {},
     "nuid": "300c0f12-9552-4b02-9978-1e9e0b79eaec",
     "showTitle": false,
     "tableResultSettingsMap": {},
     "title": ""
    }
   },
   "outputs": [],
   "source": [
    "DECLARE OR REPLACE VARIABLE resource_keys STRING;\n",
    "\n",
    "SET VAR resource_keys = (\n",
    "  SELECT \n",
    "    array_join(collect_list(DISTINCT resource), \"', '\")\n",
    "  FROM \n",
    "    fhir_resource_schemas\n",
    "  WHERE \n",
    "    resourceType = resourceType\n",
    ");\n",
    "\n",
    "select resource_keys;"
   ]
  },
  {
   "cell_type": "code",
   "execution_count": 0,
   "metadata": {
    "application/vnd.databricks.v1+cell": {
     "cellMetadata": {
      "byteLimit": 2048000,
      "rowLimit": 10000
     },
     "inputWidgets": {},
     "nuid": "bd4a22be-6696-44c8-993f-d1018555bd0a",
     "showTitle": false,
     "tableResultSettingsMap": {},
     "title": ""
    }
   },
   "outputs": [],
   "source": [
    "DECLARE OR REPLACE VARIABLE resource_stmnt STRING;\n",
    "\n",
    "SET VARIABLE resource_stmnt = \"\n",
    "CREATE OR REFRESH STREAMING TABLE \" || resourceType || \"\n",
    "COMMENT 'Parsed FHIR \" || resourceType || \" Records'\n",
    "TBLPROPERTIES (\n",
    "  'delta.enableChangeDataFeed' = 'true'\n",
    "  ,'delta.enableDeletionVectors' = 'true'\n",
    "  ,'delta.enableRowTracking' = 'true'\n",
    "  ,'quality' = 'bronze'\n",
    "  ,'pipelines.channel' = 'PREVIEW'\n",
    "  ,'delta.feature.variantType-preview' = 'supported'\n",
    ")\n",
    "AS SELECT\n",
    "  *\n",
    "FROM (\n",
    "  SELECT\n",
    "    bundle_uuid\n",
    "    ,fullUrl as \"|| resourceType ||\"_url\n",
    "    ,key\n",
    "    ,value\n",
    "  FROM \n",
    "    STREAM(fhir_resources)\n",
    "  WHERE \n",
    "    resourceType = '\"|| resourceType ||\"')\n",
    "  PIVOT (\n",
    "    first(value) FOR key IN ('\" || resource_keys || \"')\n",
    "  );\n",
    "\";\n",
    "\n",
    "SELECT resource_stmnt;\n"
   ]
  },
  {
   "cell_type": "code",
   "execution_count": 0,
   "metadata": {
    "application/vnd.databricks.v1+cell": {
     "cellMetadata": {
      "byteLimit": 2048000,
      "rowLimit": 10000
     },
     "inputWidgets": {},
     "nuid": "d1611e3a-f5e1-4efa-be0c-c788a3e4a956",
     "showTitle": false,
     "tableResultSettingsMap": {},
     "title": ""
    }
   },
   "outputs": [],
   "source": [
    "EXECUTE IMMEDIATE resource_stmnt;"
   ]
  }
 ],
 "metadata": {
  "application/vnd.databricks.v1+notebook": {
   "computePreferences": null,
   "dashboards": [],
   "environmentMetadata": {
    "base_environment": "",
    "client": "2"
   },
   "language": "sql",
   "notebookMetadata": {
    "pythonIndentUnit": 4
   },
   "notebookName": "06-Everything, Everywhere, All At Once",
   "widgets": {
    "resource_type": {
     "currentValue": "Encounter",
     "nuid": "f050990a-ace6-4067-ade3-b1c07a82761b",
     "typedWidgetInfo": {
      "autoCreated": false,
      "defaultValue": "Encounter",
      "label": "",
      "name": "resource_type",
      "options": {
       "widgetDisplayType": "Text",
       "validationRegex": null
      },
      "parameterDataType": "String"
     },
     "widgetInfo": {
      "widgetType": "text",
      "defaultValue": "Encounter",
      "label": "",
      "name": "resource_type",
      "options": {
       "widgetType": "text",
       "autoCreated": false,
       "validationRegex": null
      }
     }
    }
   }
  },
  "language_info": {
   "name": "sql"
  }
 },
 "nbformat": 4,
 "nbformat_minor": 0
}
