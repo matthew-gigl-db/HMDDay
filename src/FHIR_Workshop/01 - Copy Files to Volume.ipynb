{
 "cells": [
  {
   "cell_type": "code",
   "execution_count": 0,
   "metadata": {
    "application/vnd.databricks.v1+cell": {
     "cellMetadata": {
      "byteLimit": 2048000,
      "rowLimit": 10000
     },
     "inputWidgets": {},
     "nuid": "9c945bfd-59ad-4ec8-914e-f2185375cb05",
     "showTitle": true,
     "tableResultSettingsMap": {},
     "title": "Set Schema"
    }
   },
   "outputs": [],
   "source": [
    "schema_use = spark.sql(\"SELECT REPLACE(SPLIT(current_user(), '@')[0], '.', '_')\").collect()[0][0]\n",
    "schema_use"
   ]
  },
  {
   "cell_type": "code",
   "execution_count": 0,
   "metadata": {
    "application/vnd.databricks.v1+cell": {
     "cellMetadata": {
      "byteLimit": 2048000,
      "rowLimit": 10000
     },
     "inputWidgets": {},
     "nuid": "2f910be5-498e-49ac-bdf1-68db5adc6038",
     "showTitle": true,
     "tableResultSettingsMap": {},
     "title": "Set Source and Target Volumes"
    }
   },
   "outputs": [],
   "source": [
    "source_volume = \"/Volumes/fhir_workshop/synthea/synthetic_files_raw/output/fhir/\"\n",
    "target_volume = f\"/Volumes/fhir_workshop/{schema_use}/landing/\""
   ]
  },
  {
   "cell_type": "code",
   "execution_count": 0,
   "metadata": {
    "application/vnd.databricks.v1+cell": {
     "cellMetadata": {
      "byteLimit": 2048000,
      "rowLimit": 10000
     },
     "inputWidgets": {},
     "nuid": "000d738f-ce02-4e42-aff6-8f8dbda9f6bd",
     "showTitle": true,
     "tableResultSettingsMap": {},
     "title": "Define Copy Files Function"
    }
   },
   "outputs": [],
   "source": [
    "import shutil\n",
    "import glob\n",
    "import os\n",
    "\n",
    "def copy_files(source_volume, target_volume, file_pattern):\n",
    "  # Check if the source and target volumes end with a slash\n",
    "  if not source_volume.endswith('/'):\n",
    "    source_volume += '/'\n",
    "\n",
    "  if not target_volume.endswith('/'):\n",
    "    target_volume += '/'\n",
    "\n",
    "  # Use glob to locate files based on the file pattern\n",
    "  if file_pattern is None:\n",
    "    file_pattern = '*'\n",
    "\n",
    "  files = glob.glob(os.path.join(source_volume, file_pattern))\n",
    "\n",
    "  # Copy each file to the destination directory\n",
    "  for file in files:\n",
    "      shutil.copy(file, target_volume)\n",
    "\n",
    "  return f\"Copied {str(len(files))} files.\""
   ]
  },
  {
   "cell_type": "code",
   "execution_count": 0,
   "metadata": {
    "application/vnd.databricks.v1+cell": {
     "cellMetadata": {
      "byteLimit": 2048000,
      "rowLimit": 10000
     },
     "inputWidgets": {},
     "nuid": "0c334db7-a46e-47ea-a1ff-eeb0d9bb3744",
     "showTitle": true,
     "tableResultSettingsMap": {},
     "title": "Approximately First 1K Files"
    }
   },
   "outputs": [],
   "source": [
    "file_patterns = [\"Aa*.json\", \"Ab*.json\", \"Ad*.json\", \"Af*.json\", \"Ag*.json\", \"Ah*.json\", \"Ai*.json\", \"Aj*.json\", \"Ak*.json\"]"
   ]
  },
  {
   "cell_type": "code",
   "execution_count": 0,
   "metadata": {
    "application/vnd.databricks.v1+cell": {
     "cellMetadata": {
      "byteLimit": 2048000,
      "rowLimit": 10000
     },
     "inputWidgets": {},
     "nuid": "baf7f947-5e27-4bcd-ab16-eb58ca817744",
     "showTitle": true,
     "tableResultSettingsMap": {},
     "title": "Copy Files By Pattern"
    }
   },
   "outputs": [],
   "source": [
    "for file_pattern in file_patterns:\n",
    "    print(copy_files(source_volume, target_volume, file_pattern))"
   ]
  }
 ],
 "metadata": {
  "application/vnd.databricks.v1+notebook": {
   "computePreferences": null,
   "dashboards": [],
   "environmentMetadata": {
    "base_environment": "",
    "client": "2"
   },
   "language": "python",
   "notebookMetadata": {
    "pythonIndentUnit": 4
   },
   "notebookName": "01 - Copy Files to Volume",
   "widgets": {}
  },
  "language_info": {
   "name": "python"
  }
 },
 "nbformat": 4,
 "nbformat_minor": 0
}
