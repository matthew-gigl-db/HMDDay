{
 "cells": [
  {
   "cell_type": "code",
   "execution_count": 0,
   "metadata": {
    "application/vnd.databricks.v1+cell": {
     "cellMetadata": {
      "byteLimit": 10485760,
      "rowLimit": 1000
     },
     "inputWidgets": {},
     "nuid": "9c706f85-a8e1-49d9-b996-4fa08c3c6426",
     "showTitle": false,
     "tableResultSettingsMap": {},
     "title": ""
    }
   },
   "outputs": [],
   "source": [
    "SELECT\n",
    "file_metadata\n",
    ",entry.*\n",
    "FROM \n",
    "fhir_bronze_variant\n",
    ",LATERAL variant_explode(fhir:entry) as entry\n",
    ";\n",
    "\n",
    "SELECT\n",
    "  file_metadata\n",
    "  ,CAST(entry.value:fullUrl AS STRING) as fullUrl\n",
    "  ,CAST(entry.value:resource.resourceType AS STRING) as resourceType\n",
    "  ,entry.value as entry\n",
    "FROM \n",
    "  fhir_bronze_variant\n",
    "  ,LATERAL variant_explode(fhir:entry) as entry;"
   ]
  }
 ],
 "metadata": {
  "application/vnd.databricks.v1+notebook": {
   "computePreferences": null,
   "dashboards": [],
   "environmentMetadata": null,
   "language": "sql",
   "notebookMetadata": {
    "pythonIndentUnit": 4,
    "sqlQueryOptions": {
     "applyAutoLimit": true,
     "catalog": "fhir_workshop",
     "schema": "odl_instructor_1452233"
    }
   },
   "notebookName": "Explode Entries.dbquery.ipynb",
   "widgets": {}
  },
  "language_info": {
   "name": "sql"
  }
 },
 "nbformat": 4,
 "nbformat_minor": 0
}
